{
 "cells": [
  {
   "cell_type": "markdown",
   "metadata": {},
   "source": [
    "# 데이터에서 표현을 학습하기\n",
    "- 입력 데이터 포인트 : 문제가 음성인식이라면 사운도파일, 이미지작업에서는 사진\n",
    "- 기대 출력 : 음성작업에서는 사운드 파일을 듣고 옮긴 글\n",
    "- 알고리즘의 성능을 측정하는 방법 : 출력과 기대 출력간의 차이를 결정하기 위한 학습\n"
   ]
  },
  {
   "cell_type": "markdown",
   "metadata": {},
   "source": [
    "> 머신러닝에서 학습이란 더 나은 표현을 찾는 자동화된 과정"
   ]
  },
  {
   "cell_type": "markdown",
   "metadata": {},
   "source": [
    "# 딥러닝에서 '딥'이란 무엇일까?\n",
    "1. 머신러닝의 한 종류이다.\n",
    "1. 연속된 층(layer)에서 점진적으로 의미 있는 표현을 배우는 데 강점\n",
    "1. 데이터로부터 표현을 학습하는 새로운 방식\n"
   ]
  },
  {
   "cell_type": "markdown",
   "metadata": {},
   "source": [
    "## 딥러닝의 작동원리\n",
    "![](https://subinium.github.io/assets/images/keras/keras1_flowchart.png)"
   ]
  }
 ],
 "metadata": {
  "language_info": {
   "codemirror_mode": {
    "name": "ipython",
    "version": 3
   },
   "file_extension": ".py",
   "mimetype": "text/x-python",
   "name": "python",
   "nbconvert_exporter": "python",
   "pygments_lexer": "ipython3",
   "version": 3
  },
  "orig_nbformat": 2
 },
 "nbformat": 4,
 "nbformat_minor": 2
}